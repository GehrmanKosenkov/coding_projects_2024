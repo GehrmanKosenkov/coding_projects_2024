{
 "cells": [
  {
   "cell_type": "code",
   "execution_count": 1,
   "metadata": {},
   "outputs": [],
   "source": [
    "import os \n",
    "import pandas as pd\n",
    "\n",
    "# Load the Excel file into a DataFrame\n",
    "file_path = '/Users/germankosenkov/Code projects/Indonesian S&D/Production/Clean/Data/Raw/MYR price/CPO_price_MY.xlsx'\n",
    "merged_data = pd.read_excel(file_path)\n",
    "\n",
    "# Set 'Date' as the index\n",
    "merged_data.set_index('Date', inplace=True)\n",
    "\n",
    "# Convert 'Price' column to numeric (assuming it contains numeric data)\n",
    "merged_data['Price'] = pd.to_numeric(merged_data['Price'], errors='coerce')\n",
    "\n",
    "# Define aggregation functions for each column\n",
    "agg_functions = {\n",
    "    'Price': 'mean', # Replace 'Price' with the actual column name if needed\n",
    "}\n",
    "\n",
    "# Resample data using the aggregation functions\n",
    "monthly_data = merged_data.resample('M').agg(agg_functions)\n",
    "\n",
    "# Reset the index to have 'Date' as a column\n",
    "monthly_data.reset_index(inplace=True)\n",
    "\n",
    "# Specify the output Excel file name with .xlsx extension\n",
    "output_file = '/Users/germankosenkov/Code projects/Indonesian S&D/Production/Clean/Data/Refined other_data/MYR price/resampled.xlsx'\n",
    "\n",
    "# Write the summarized monthly data to a new Excel file\n",
    "monthly_data.to_excel(output_file, index=False, engine='openpyxl')\n"
   ]
  }
 ],
 "metadata": {
  "kernelspec": {
   "display_name": "base",
   "language": "python",
   "name": "python3"
  },
  "language_info": {
   "codemirror_mode": {
    "name": "ipython",
    "version": 3
   },
   "file_extension": ".py",
   "mimetype": "text/x-python",
   "name": "python",
   "nbconvert_exporter": "python",
   "pygments_lexer": "ipython3",
   "version": "3.9.13"
  },
  "orig_nbformat": 4,
  "vscode": {
   "interpreter": {
    "hash": "a44830708761a843059adba6d554183630a5ed8b6adc3257bd6953cce1e327da"
   }
  }
 },
 "nbformat": 4,
 "nbformat_minor": 2
}
