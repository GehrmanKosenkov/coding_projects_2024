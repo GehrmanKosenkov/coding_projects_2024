{
 "cells": [
  {
   "cell_type": "code",
   "execution_count": 1,
   "metadata": {},
   "outputs": [
    {
     "name": "stdout",
     "output_type": "stream",
     "text": [
      "DataFrame has been saved to Excel successfully.\n"
     ]
    }
   ],
   "source": [
    "import pandas as pd\n",
    "\n",
    "# Path to your Excel file\n",
    "excel_file_path = '/Users/germankosenkov/Code projects/Indonesian S&D/Production/Clean/Data/Refined GTT + EUR/Slices/31-12-2023.xlsx'  \n",
    "\n",
    "# Read Excel file into DataFrame\n",
    "df_vwap = pd.read_excel(excel_file_path)\n",
    "\n",
    "# Now, let's apply the operations to create 'year' and 'month' columns\n",
    "df_vwap['year'] = df_vwap['Date'].dt.year\n",
    "df_vwap['month'] = df_vwap['Date'].dt.month\n",
    "\n",
    "# Define the path where you want to save the modified DataFrame to an Excel file\n",
    "output_excel_file_path = '/Users/germankosenkov/Code projects/Indonesian S&D/Production/Clean/Data/Refined GTT + EUR/Slices/31-12-2023_modified.xlsx'  # Change this to your desired file path\n",
    "\n",
    "# Write DataFrame to Excel\n",
    "df_vwap.to_excel(output_excel_file_path, index=False)\n",
    "\n",
    "print(\"DataFrame has been saved to Excel successfully.\")\n"
   ]
  }
 ],
 "metadata": {
  "kernelspec": {
   "display_name": "base",
   "language": "python",
   "name": "python3"
  },
  "language_info": {
   "name": "python",
   "version": "3.9.13 (main, Aug 25 2022, 18:29:29) \n[Clang 12.0.0 ]"
  },
  "orig_nbformat": 4,
  "vscode": {
   "interpreter": {
    "hash": "a44830708761a843059adba6d554183630a5ed8b6adc3257bd6953cce1e327da"
   }
  }
 },
 "nbformat": 4,
 "nbformat_minor": 2
}
