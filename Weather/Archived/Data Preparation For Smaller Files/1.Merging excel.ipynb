{
 "cells": [
  {
   "cell_type": "code",
   "execution_count": 1,
   "metadata": {},
   "outputs": [
    {
     "name": "stdout",
     "output_type": "stream",
     "text": [
      "Merged data saved to /Users/germankosenkov/Code projects/Indonesian S&D/May 10/Raw data/Weather data unscaled/Merged/Merged.xlsx\n"
     ]
    }
   ],
   "source": [
    "import os\n",
    "import pandas as pd\n",
    "\n",
    "# Directory where your Excel files are located\n",
    "directory = '/Users/germankosenkov/Code projects/Indonesian S&D/May 10/Raw data/Weather data unscaled/Raw'\n",
    "\n",
    "# Initialize an empty DataFrame to store the merged data\n",
    "merged_data = pd.DataFrame()\n",
    "\n",
    "# Loop through each file in the directory\n",
    "for filename in os.listdir(directory):\n",
    "    if filename.endswith(\".xlsx\"):  # Assuming your files are in xlsx format\n",
    "        file_path = os.path.join(directory, filename)\n",
    "        \n",
    "        # Read the Excel file into a DataFrame and skip the header rows\n",
    "        df = pd.read_excel(file_path, skiprows=8, usecols=\"A:J\")  # Assuming your data is in columns A to J\n",
    "        \n",
    "        # Try to identify a date-like column based on content\n",
    "        date_column_name = None\n",
    "        for column_name in df.columns:\n",
    "            date_values = pd.to_datetime(df[column_name], errors='coerce', format='%d-%m-%Y')\n",
    "            if not date_values.isna().all():\n",
    "                date_column_name = column_name\n",
    "                break\n",
    "        \n",
    "        # If a date-like column is found, use it as the 'Date' column\n",
    "        if date_column_name:\n",
    "            df.rename(columns={date_column_name: 'Date'}, inplace=True)\n",
    "\n",
    "            df['Date'] = pd.to_datetime(df['Date'], errors='coerce', format='%d-%m-%Y')\n",
    "            \n",
    "            df = df.dropna(subset=['Date'])\n",
    "            \n",
    "            # Concatenate the current DataFrame with the merged_data\n",
    "            merged_data = pd.concat([merged_data, df], ignore_index=True)\n",
    "\n",
    "# Check if the 'Date' column exists in the merged DataFrame\n",
    "if 'Date' in merged_data.columns:\n",
    "    #Sort the merged DataFrame by the 'Date' column\n",
    "    merged_data = merged_data.sort_values(by='Date')\n",
    "\n",
    "    # Specify the output Excel file name\n",
    "    output_file = '/Users/germankosenkov/Code projects/Indonesian S&D/May 10/Raw data/Weather data unscaled/Merged/Merged.xlsx'\n",
    "\n",
    "    # Write the merged data to a new Excel file\n",
    "    merged_data.to_excel(output_file, index=False, engine='openpyxl')\n",
    "    print(f'Merged data saved to {output_file}')\n",
    "else:\n",
    "    print(\"'Date' column not found in the merged data.\")\n"
   ]
  },
  {
   "cell_type": "code",
   "execution_count": 2,
   "metadata": {},
   "outputs": [],
   "source": [
    "# import pandas as pd\n",
    "\n",
    "# # Replace 'your_file.xlsx' with the actual path to your Excel file and 'Sheet1' with the sheet name\n",
    "# df = pd.read_excel('/Users/germankosenkov/Code projects/Indonesian S&D/Data for the model/Raw data/Weather/Oesman/Oesman_Merged.xlsx', sheet_name='Sheet1')\n",
    "\n",
    "# # Replace 'Column_Name' with the name of the column you want to check for duplicates\n",
    "# duplicated_values = df['Date'].duplicated(keep=False)\n",
    "\n",
    "\n",
    "# # Filter the DataFrame to get the duplicated rows\n",
    "# duplicated_rows = df[duplicated_values]\n",
    "\n",
    "# # Optional: Count the number of duplicated values in the column\n",
    "# num_duplicates = duplicated_values.sum()\n",
    "# print(f\"Number of duplicated values in 'Column_Name': {num_duplicates}\")"
   ]
  },
  {
   "cell_type": "code",
   "execution_count": 3,
   "metadata": {},
   "outputs": [],
   "source": [
    "# import pandas as pd\n",
    "\n",
    "# # Replace 'your_file.xlsx' with the actual path to your Excel file and 'Sheet1' with the sheet name\n",
    "# file_path = '/Users/germankosenkov/Code projects/Indonesian S&D/Data for the model/Raw data/Weather/Sumatera Selatan/Sumatera_Merged.xlsx'\n",
    "# df = pd.read_excel(file_path, sheet_name='Sheet1')\n",
    "\n",
    "# # Replace 'Column_Name' with the name of the column you want to check for duplicates\n",
    "# duplicated_values = df['Date'].duplicated(keep=False)\n",
    "\n",
    "# # Drop duplicates based on all columns in place\n",
    "# df.drop_duplicates(inplace=True)\n",
    "\n",
    "# # Filter the DataFrame to get the duplicated rows\n",
    "# duplicated_rows = df[duplicated_values]\n",
    "\n",
    "# # Optional: Count the number of duplicated values in the column\n",
    "# num_duplicates = duplicated_values.sum()\n",
    "# print(f\"Number of duplicated values in 'Date': {num_duplicates}\")\n",
    "\n",
    "# # Save the modified DataFrame back to the same Excel file\n",
    "# df.to_excel(file_path, index=False)  # Set index=False to exclude index column in the saved Excel file\n"
   ]
  }
 ],
 "metadata": {
  "kernelspec": {
   "display_name": "base",
   "language": "python",
   "name": "python3"
  },
  "language_info": {
   "codemirror_mode": {
    "name": "ipython",
    "version": 3
   },
   "file_extension": ".py",
   "mimetype": "text/x-python",
   "name": "python",
   "nbconvert_exporter": "python",
   "pygments_lexer": "ipython3",
   "version": "3.9.13"
  },
  "orig_nbformat": 4,
  "vscode": {
   "interpreter": {
    "hash": "a44830708761a843059adba6d554183630a5ed8b6adc3257bd6953cce1e327da"
   }
  }
 },
 "nbformat": 4,
 "nbformat_minor": 2
}
