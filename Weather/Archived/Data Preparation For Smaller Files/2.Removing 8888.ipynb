{
 "cells": [
  {
   "cell_type": "code",
   "execution_count": 4,
   "metadata": {},
   "outputs": [],
   "source": [
    "import pandas as pd\n",
    "\n",
    "data_list = [\n",
    "    {'link':'/Users/germankosenkov/Code projects/Indonesian S&D/May 10/Raw data/Weather data unscaled/Raw/Iskandar.xlsx', 'name': 'Iskandar.xlsx'},\n",
    "    {'link':'/Users/germankosenkov/Code projects/Indonesian S&D/May 10/Raw data/Weather data unscaled/Raw/Japura.xlsx', 'name': 'Japura.xlsx'},\n",
    "    {'link':'/Users/germankosenkov/Code projects/Indonesian S&D/May 10/Raw data/Weather data unscaled/Raw/Nunukan.xlsx', 'name': 'Nunukan'},\n",
    "    {'link':'/Users/germankosenkov/Code projects/Indonesian S&D/May 10/Raw data/Weather data unscaled/Raw/Sumatera Selatan.xlsx', 'name': 'Sumatera'},\n",
    "    {'link':'/Users/germankosenkov/Code projects/Indonesian S&D/May 10/Raw data/Weather data unscaled/Raw/Oesman.xlsx', 'name': 'Oesman'}\n",
    "]\n",
    "\n",
    "\n",
    "\n",
    "for item in data_list:\n",
    "    link = item['link']  \n",
    "    df = pd.read_excel(link)\n",
    "    mask = df['RR'] == 8888\n",
    "    df.loc[mask, 'RR'] = pd.NA\n",
    "    output_path = f'/Users/germankosenkov/Code projects/Indonesian S&D/May 10/Raw data/Weather data unscaled/8888 removed/{item[\"name\"]}'\n",
    "    df.to_excel(output_path, index=False, engine='openpyxl')  # Specify the engine parameter\n"
   ]
  }
 ],
 "metadata": {
  "kernelspec": {
   "display_name": "base",
   "language": "python",
   "name": "python3"
  },
  "language_info": {
   "codemirror_mode": {
    "name": "ipython",
    "version": 3
   },
   "file_extension": ".py",
   "mimetype": "text/x-python",
   "name": "python",
   "nbconvert_exporter": "python",
   "pygments_lexer": "ipython3",
   "version": "3.9.13"
  },
  "orig_nbformat": 4,
  "vscode": {
   "interpreter": {
    "hash": "a44830708761a843059adba6d554183630a5ed8b6adc3257bd6953cce1e327da"
   }
  }
 },
 "nbformat": 4,
 "nbformat_minor": 2
}
