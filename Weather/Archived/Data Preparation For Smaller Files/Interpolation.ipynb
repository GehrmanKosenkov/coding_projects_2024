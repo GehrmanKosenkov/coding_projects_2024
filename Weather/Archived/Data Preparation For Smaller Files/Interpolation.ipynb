{
 "cells": [
  {
   "cell_type": "code",
   "execution_count": 1,
   "metadata": {},
   "outputs": [],
   "source": [
    "import pandas as pd\n",
    "\n",
    "data_list = [\n",
    "    {'link':'/Users/germankosenkov/Code projects/S&D estimation:forecasting/Indonesian S&D/June 17/Raw data/Weather data unscaled/8888 removed/Iskandar.xlsx', 'name': 'Iskandar.xlsx'},\n",
    "    {'link':'/Users/germankosenkov/Code projects/S&D estimation:forecasting/Indonesian S&D/June 17/Raw data/Weather data unscaled/8888 removed/Japura.xlsx', 'name': 'Japura.xlsx'},\n",
    "    {'link':'/Users/germankosenkov/Code projects/S&D estimation:forecasting/Indonesian S&D/June 17/Raw data/Weather data unscaled/8888 removed/Nunukan.xlsx','name': 'Nunukan.xlsx'},\n",
    "    {'link':'/Users/germankosenkov/Code projects/S&D estimation:forecasting/Indonesian S&D/June 17/Raw data/Weather data unscaled/8888 removed/Oesman.xlsx', 'name': 'Oesman.xlsx'},\n",
    "    {'link':'/Users/germankosenkov/Code projects/S&D estimation:forecasting/Indonesian S&D/June 17/Raw data/Weather data unscaled/8888 removed/Sumatera Selatan.xlsx','name': 'Sumatera.xlsx'},\n",
    "\n",
    "\n",
    "\n",
    "]\n",
    "\n",
    "# Specify the columns for which you want to perform interpolation\n",
    "columns_to_interpolate = ['Tn', 'Tx', 'Tavg', 'RH_avg', 'RR', 'ss', 'ff_x', 'ddd_x', 'ff_avg']\n",
    "\n",
    "\n",
    "for item in data_list:\n",
    "    link = item['link']  \n",
    "    df = pd.read_excel(link)\n",
    "    \n",
    "    # Interpolate missing values for the specified columns along columns (axis=0)\n",
    "    df[columns_to_interpolate] = df[columns_to_interpolate].interpolate(axis=0)\n",
    "    \n",
    "    # Define the output file path for the current item\n",
    "    output_path = f'/Users/germankosenkov/Code projects/S&D estimation:forecasting/Indonesian S&D/June 17/Raw data/Weather data unscaled/After interpolation/{item[\"name\"]}'\n",
    "    \n",
    "    # Write the modified DataFrame to the output file\n",
    "    df.to_excel(output_path, index=False)\n"
   ]
  }
 ],
 "metadata": {
  "kernelspec": {
   "display_name": "base",
   "language": "python",
   "name": "python3"
  },
  "language_info": {
   "codemirror_mode": {
    "name": "ipython",
    "version": 3
   },
   "file_extension": ".py",
   "mimetype": "text/x-python",
   "name": "python",
   "nbconvert_exporter": "python",
   "pygments_lexer": "ipython3",
   "version": "3.9.13 (main, Aug 25 2022, 18:29:29) \n[Clang 12.0.0 ]"
  },
  "orig_nbformat": 4,
  "vscode": {
   "interpreter": {
    "hash": "a44830708761a843059adba6d554183630a5ed8b6adc3257bd6953cce1e327da"
   }
  }
 },
 "nbformat": 4,
 "nbformat_minor": 2
}
