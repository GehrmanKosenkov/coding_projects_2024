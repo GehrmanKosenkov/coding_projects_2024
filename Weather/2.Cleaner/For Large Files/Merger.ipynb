{
 "cells": [
  {
   "cell_type": "code",
   "execution_count": 1,
   "metadata": {},
   "outputs": [
    {
     "name": "stdout",
     "output_type": "stream",
     "text": [
      "Skipping /Users/germankosenkov/Code projects/S&D estimation:forecasting/Indonesian S&D/New/Code/Data Preparation/Weather/2.Cleaner/Test/Stasiun Meteorologi Iskandar_31-05-2024.xlsx: 'Date' column not found\n",
      "Skipping /Users/germankosenkov/Code projects/S&D estimation:forecasting/Indonesian S&D/New/Code/Data Preparation/Weather/2.Cleaner/Test/Stasiun Meteorologi Japura_31-05-2024.xlsx: 'Date' column not found\n",
      "No valid Excel files found in the directory.\n"
     ]
    }
   ],
   "source": [
    "import pandas as pd\n",
    "import os\n",
    "\n",
    "# Directory containing the Excel files\n",
    "directory = './'\n",
    "\n",
    "# List to hold dataframes\n",
    "dfs = []\n",
    "\n",
    "# Loop through all the files in the directory\n",
    "for filename in os.listdir(directory):\n",
    "    if filename.endswith(\".xlsx\") or filename.endswith(\".xls\"):\n",
    "        if filename.startswith(\"~$\"):\n",
    "            # Skip temporary files created by Excel\n",
    "            continue\n",
    "        file_path = os.path.join(directory, filename)\n",
    "        try:\n",
    "            # Read each Excel file, specifying the engine\n",
    "            df = pd.read_excel(file_path, engine='openpyxl')\n",
    "            # Check if the 'Date' column exists\n",
    "            if 'Date' in df.columns:\n",
    "                dfs.append(df)\n",
    "            else:\n",
    "                print(f\"Skipping {file_path}: 'Date' column not found\")\n",
    "        except Exception as e:\n",
    "            print(f\"Error reading {file_path}: {e}\")\n",
    "\n",
    "if len(dfs) > 0:\n",
    "    # Merge dataframes on the 'Date' column\n",
    "    merged_df = dfs[0]\n",
    "    for df in dfs[1:]:\n",
    "        merged_df = pd.merge(merged_df, df, on='Date', how='outer')\n",
    "\n",
    "    # Sort the merged dataframe by date\n",
    "    merged_df = merged_df.sort_values(by='Date')\n",
    "\n",
    "    # Fill missing values using forward fill and backward fill\n",
    "    merged_df = merged_df.fillna(method='ffill').fillna(method='bfill')\n",
    "\n",
    "    na_positions = merged_df.isna()\n",
    "\n",
    "    # Save the positions of the NAs (True indicates an NA position)\n",
    "    na_positions.to_excel('na_positions.xlsx', index=False)\n",
    "\n",
    "    # Save the summary of NAs (count of NAs per column)\n",
    "    na_summary = merged_df.isna().sum()\n",
    "    na_summary.to_excel('na_summary.xlsx', header=[\"Count\"])\n",
    "\n",
    "    # Save the merged dataframe with filled values to a new Excel file\n",
    "    merged_df.to_excel('merged_file_filled.xlsx', index=False)\n",
    "\n",
    "    print(\"NA positions saved to 'na_positions.xlsx'\")\n",
    "    print(\"NA summary saved to 'na_summary.xlsx'\")\n",
    "    print(\"Merged file with filled values saved to 'merged_file_filled.xlsx'\")\n",
    "else:\n",
    "    print(\"No valid Excel files found in the directory.\")\n"
   ]
  }
 ],
 "metadata": {
  "kernelspec": {
   "display_name": "base",
   "language": "python",
   "name": "python3"
  },
  "language_info": {
   "codemirror_mode": {
    "name": "ipython",
    "version": 3
   },
   "file_extension": ".py",
   "mimetype": "text/x-python",
   "name": "python",
   "nbconvert_exporter": "python",
   "pygments_lexer": "ipython3",
   "version": "3.9.13 (main, Aug 25 2022, 18:29:29) \n[Clang 12.0.0 ]"
  },
  "orig_nbformat": 4,
  "vscode": {
   "interpreter": {
    "hash": "a44830708761a843059adba6d554183630a5ed8b6adc3257bd6953cce1e327da"
   }
  }
 },
 "nbformat": 4,
 "nbformat_minor": 2
}
